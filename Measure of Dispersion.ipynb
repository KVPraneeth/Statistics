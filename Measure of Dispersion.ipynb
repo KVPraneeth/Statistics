{
 "cells": [
  {
   "cell_type": "markdown",
   "metadata": {},
   "source": [
    "### Range"
   ]
  },
  {
   "cell_type": "code",
   "execution_count": 2,
   "metadata": {},
   "outputs": [
    {
     "name": "stdout",
     "output_type": "stream",
     "text": [
      "Range of [1, 2, 3, 4, 5] is 4\n",
      "Range of [1, 2, 3, 4, 5, 6, 7, 8, 9, 10] is 9\n"
     ]
    }
   ],
   "source": [
    "arr = [1,2,3,4,5]\n",
    "arr2 = [1,2,3,4,5,6,7,8,9,10]\n",
    "\n",
    "ma1 = max(arr)\n",
    "mi1 = min(arr)\n",
    "\n",
    "ma2 = max(arr2)\n",
    "mi2 = min(arr2)\n",
    "\n",
    "def calc_range(min,max):\n",
    "    return max-min\n",
    "\n",
    "print(f'Range of {arr} is {calc_range(mi1,ma1)}')\n",
    "print(f'Range of {arr2} is {calc_range(mi2,ma2)}')"
   ]
  },
  {
   "cell_type": "markdown",
   "metadata": {},
   "source": [
    "### Variance"
   ]
  },
  {
   "cell_type": "markdown",
   "metadata": {},
   "source": [
    "For .variance(data) function we need to import statistics library"
   ]
  },
  {
   "cell_type": "code",
   "execution_count": 4,
   "metadata": {},
   "outputs": [],
   "source": [
    "import statistics as st"
   ]
  },
  {
   "cell_type": "code",
   "execution_count": 5,
   "metadata": {},
   "outputs": [
    {
     "name": "stdout",
     "output_type": "stream",
     "text": [
      "Variance of [1, 2, 3, 4, 5] is 2.5\n",
      "Variance of [1, 2, 3, 4, 5, 6, 7, 8, 9, 10] is 9.166666666666666\n"
     ]
    }
   ],
   "source": [
    "print(f'Variance of {arr} is {st.variance(arr)}')\n",
    "print(f'Variance of {arr2} is {st.variance(arr2)}')"
   ]
  },
  {
   "cell_type": "markdown",
   "metadata": {},
   "source": [
    "### Standard Deviation"
   ]
  },
  {
   "cell_type": "markdown",
   "metadata": {},
   "source": [
    "For std deviation statistics library is enough"
   ]
  },
  {
   "cell_type": "code",
   "execution_count": 6,
   "metadata": {},
   "outputs": [
    {
     "name": "stdout",
     "output_type": "stream",
     "text": [
      "Standard Deviation of [1, 2, 3, 4, 5] is 1.5811388300841898\n",
      "Standard Deviation of [1, 2, 3, 4, 5, 6, 7, 8, 9, 10] is 3.0276503540974917\n"
     ]
    }
   ],
   "source": [
    "print(f'Standard Deviation of {arr} is {st.stdev(arr)}')\n",
    "print(f'Standard Deviation of {arr2} is {st.stdev(arr2)}')"
   ]
  },
  {
   "cell_type": "code",
   "execution_count": null,
   "metadata": {},
   "outputs": [],
   "source": []
  }
 ],
 "metadata": {
  "kernelspec": {
   "display_name": "Python 3",
   "language": "python",
   "name": "python3"
  },
  "language_info": {
   "codemirror_mode": {
    "name": "ipython",
    "version": 3
   },
   "file_extension": ".py",
   "mimetype": "text/x-python",
   "name": "python",
   "nbconvert_exporter": "python",
   "pygments_lexer": "ipython3",
   "version": "3.11.8"
  }
 },
 "nbformat": 4,
 "nbformat_minor": 2
}
