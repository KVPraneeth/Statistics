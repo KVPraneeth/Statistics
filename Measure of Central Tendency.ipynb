{
 "cells": [
  {
   "cell_type": "markdown",
   "metadata": {},
   "source": [
    "### 1.Mean"
   ]
  },
  {
   "cell_type": "code",
   "execution_count": 2,
   "metadata": {},
   "outputs": [],
   "source": [
    "arr = [5,6,11]\n",
    "arr2 = [1,2,3,4,5,6,7,8,9,10]"
   ]
  },
  {
   "cell_type": "code",
   "execution_count": 3,
   "metadata": {},
   "outputs": [],
   "source": [
    "import numpy as np"
   ]
  },
  {
   "cell_type": "code",
   "execution_count": 4,
   "metadata": {},
   "outputs": [
    {
     "name": "stdout",
     "output_type": "stream",
     "text": [
      "Mean of [5, 6, 11] is 7.333333333333333\n",
      "Mean of [1, 2, 3, 4, 5, 6, 7, 8, 9, 10] is 5.5\n"
     ]
    }
   ],
   "source": [
    "mean1 = np.mean(arr)\n",
    "mean2 = np.mean(arr2)\n",
    "\n",
    "print(f'Mean of {arr} is {mean1}')\n",
    "print(f'Mean of {arr2} is {mean2}')"
   ]
  },
  {
   "cell_type": "markdown",
   "metadata": {},
   "source": [
    "### 2.Median"
   ]
  },
  {
   "cell_type": "code",
   "execution_count": 5,
   "metadata": {},
   "outputs": [
    {
     "name": "stdout",
     "output_type": "stream",
     "text": [
      "Median of [1, 2, 3, 4] is 2.5\n",
      "Median of [1, 2, 3, 4, 5, 6, 7, 8, 9, 10, 11, 12, 13, 14, 15] is 8.0\n"
     ]
    }
   ],
   "source": [
    "arr = [1,2,3,4]\n",
    "arr2 = [1,2,3,4,5,6,7,8,9,10,11,12,13,14,15]\n",
    "\n",
    "med1 = np.median(arr)\n",
    "med2 = np.median(arr2)\n",
    "\n",
    "print(f'Median of {arr} is {med1}')\n",
    "print(f'Median of {arr2} is {med2}')"
   ]
  },
  {
   "cell_type": "markdown",
   "metadata": {},
   "source": [
    "### 3.Mode"
   ]
  },
  {
   "cell_type": "markdown",
   "metadata": {},
   "source": [
    "No mode() in numpy library.  \n",
    "So we have to import scipy.stats lib"
   ]
  },
  {
   "cell_type": "code",
   "execution_count": 6,
   "metadata": {},
   "outputs": [],
   "source": [
    "import scipy.stats as stats"
   ]
  },
  {
   "cell_type": "code",
   "execution_count": 8,
   "metadata": {},
   "outputs": [
    {
     "name": "stdout",
     "output_type": "stream",
     "text": [
      "Mode of [1, 2, 2, 4] is ModeResult(mode=np.int64(2), count=np.int64(2))\n",
      "Modee of [1, 1, 1, 2, 2, 3, 3, 3, 3, 3, 4, 4] is ModeResult(mode=np.int64(3), count=np.int64(5))\n"
     ]
    }
   ],
   "source": [
    "arr = [1,2,2,4]\n",
    "arr2 = [1,1,1,2,2,3,3,3,3,3,4,4]\n",
    "\n",
    "mod1 = stats.mode(arr)\n",
    "mod2 = stats.mode(arr2)\n",
    "\n",
    "print(f'Mode of {arr} is {mod1}')\n",
    "print(f'Modee of {arr2} is {mod2}')"
   ]
  },
  {
   "cell_type": "code",
   "execution_count": null,
   "metadata": {},
   "outputs": [],
   "source": []
  }
 ],
 "metadata": {
  "kernelspec": {
   "display_name": "Python 3",
   "language": "python",
   "name": "python3"
  },
  "language_info": {
   "codemirror_mode": {
    "name": "ipython",
    "version": 3
   },
   "file_extension": ".py",
   "mimetype": "text/x-python",
   "name": "python",
   "nbconvert_exporter": "python",
   "pygments_lexer": "ipython3",
   "version": "3.11.8"
  }
 },
 "nbformat": 4,
 "nbformat_minor": 2
}
